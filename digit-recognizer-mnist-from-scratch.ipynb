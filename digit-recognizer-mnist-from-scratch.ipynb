{
 "cells": [
  {
   "cell_type": "code",
   "execution_count": 1,
   "id": "92e110d7",
   "metadata": {
    "_cell_guid": "b1076dfc-b9ad-4769-8c92-a6c4dae69d19",
    "_uuid": "8f2839f25d086af736a60e9eeb907d3b93b6e0e5",
    "execution": {
     "iopub.execute_input": "2024-01-09T18:25:40.622860Z",
     "iopub.status.busy": "2024-01-09T18:25:40.621646Z",
     "iopub.status.idle": "2024-01-09T18:25:41.173124Z",
     "shell.execute_reply": "2024-01-09T18:25:41.172146Z"
    },
    "papermill": {
     "duration": 0.572567,
     "end_time": "2024-01-09T18:25:41.176549",
     "exception": false,
     "start_time": "2024-01-09T18:25:40.603982",
     "status": "completed"
    },
    "tags": []
   },
   "outputs": [],
   "source": [
    "#Import Basic Libraries\n",
    "import pandas as pd\n",
    "import numpy as np\n",
    "from matplotlib import pyplot as plt"
   ]
  },
  {
   "cell_type": "markdown",
   "id": "2f9c0bfe",
   "metadata": {
    "papermill": {
     "duration": 0.011337,
     "end_time": "2024-01-09T18:25:41.201705",
     "exception": false,
     "start_time": "2024-01-09T18:25:41.190368",
     "status": "completed"
    },
    "tags": []
   },
   "source": [
    "# Data Processing"
   ]
  },
  {
   "cell_type": "code",
   "execution_count": 2,
   "id": "0b1ed381",
   "metadata": {
    "execution": {
     "iopub.execute_input": "2024-01-09T18:25:41.224370Z",
     "iopub.status.busy": "2024-01-09T18:25:41.222726Z",
     "iopub.status.idle": "2024-01-09T18:25:45.861803Z",
     "shell.execute_reply": "2024-01-09T18:25:45.860530Z"
    },
    "papermill": {
     "duration": 4.653491,
     "end_time": "2024-01-09T18:25:45.864827",
     "exception": false,
     "start_time": "2024-01-09T18:25:41.211336",
     "status": "completed"
    },
    "tags": []
   },
   "outputs": [],
   "source": [
    "#Read CSV\n",
    "data = pd.read_csv(\"/kaggle/input/digit-recognizer/train.csv\")\n"
   ]
  },
  {
   "cell_type": "code",
   "execution_count": 3,
   "id": "060898f2",
   "metadata": {
    "execution": {
     "iopub.execute_input": "2024-01-09T18:25:45.887219Z",
     "iopub.status.busy": "2024-01-09T18:25:45.886782Z",
     "iopub.status.idle": "2024-01-09T18:25:46.840883Z",
     "shell.execute_reply": "2024-01-09T18:25:46.839625Z"
    },
    "papermill": {
     "duration": 0.968874,
     "end_time": "2024-01-09T18:25:46.844255",
     "exception": false,
     "start_time": "2024-01-09T18:25:45.875381",
     "status": "completed"
    },
    "tags": []
   },
   "outputs": [],
   "source": [
    "#Pandas to Numpy Array\n",
    "data = np.array(data)\n",
    "m,n = data.shape\n",
    "np.random.shuffle(data)"
   ]
  },
  {
   "cell_type": "code",
   "execution_count": 4,
   "id": "987c11d2",
   "metadata": {
    "execution": {
     "iopub.execute_input": "2024-01-09T18:25:46.866613Z",
     "iopub.status.busy": "2024-01-09T18:25:46.866114Z",
     "iopub.status.idle": "2024-01-09T18:25:46.874124Z",
     "shell.execute_reply": "2024-01-09T18:25:46.872813Z"
    },
    "papermill": {
     "duration": 0.024721,
     "end_time": "2024-01-09T18:25:46.878733",
     "exception": false,
     "start_time": "2024-01-09T18:25:46.854012",
     "status": "completed"
    },
    "tags": []
   },
   "outputs": [],
   "source": [
    "#Validation Set\n",
    "data_val = data[0:1000].T\n",
    "x_val = data_val[1:n]\n",
    "y_val = data_val[0]\n",
    "\n",
    "x_val = x_val / 255"
   ]
  },
  {
   "cell_type": "code",
   "execution_count": 5,
   "id": "5ccdbe7b",
   "metadata": {
    "execution": {
     "iopub.execute_input": "2024-01-09T18:25:46.903675Z",
     "iopub.status.busy": "2024-01-09T18:25:46.902861Z",
     "iopub.status.idle": "2024-01-09T18:25:47.031809Z",
     "shell.execute_reply": "2024-01-09T18:25:47.030534Z"
    },
    "papermill": {
     "duration": 0.144748,
     "end_time": "2024-01-09T18:25:47.035148",
     "exception": false,
     "start_time": "2024-01-09T18:25:46.890400",
     "status": "completed"
    },
    "tags": []
   },
   "outputs": [],
   "source": [
    "#Training Set\n",
    "data_train = data[1000:m].T\n",
    "x_train = data_train[1:n]\n",
    "y_train = data_train[0]\n",
    "\n",
    "x_train = x_train / 255"
   ]
  },
  {
   "cell_type": "markdown",
   "id": "bdd5c90b",
   "metadata": {
    "papermill": {
     "duration": 0.00961,
     "end_time": "2024-01-09T18:25:47.054595",
     "exception": false,
     "start_time": "2024-01-09T18:25:47.044985",
     "status": "completed"
    },
    "tags": []
   },
   "source": [
    "# Creating Neural Net"
   ]
  },
  {
   "cell_type": "markdown",
   "id": "458951e9",
   "metadata": {
    "papermill": {
     "duration": 0.00961,
     "end_time": "2024-01-09T18:25:47.074078",
     "exception": false,
     "start_time": "2024-01-09T18:25:47.064468",
     "status": "completed"
    },
    "tags": []
   },
   "source": [
    "**Initializing Neural Net**"
   ]
  },
  {
   "cell_type": "code",
   "execution_count": 6,
   "id": "c0a3930c",
   "metadata": {
    "execution": {
     "iopub.execute_input": "2024-01-09T18:25:47.096531Z",
     "iopub.status.busy": "2024-01-09T18:25:47.095435Z",
     "iopub.status.idle": "2024-01-09T18:25:47.103710Z",
     "shell.execute_reply": "2024-01-09T18:25:47.102321Z"
    },
    "papermill": {
     "duration": 0.022759,
     "end_time": "2024-01-09T18:25:47.106562",
     "exception": false,
     "start_time": "2024-01-09T18:25:47.083803",
     "status": "completed"
    },
    "tags": []
   },
   "outputs": [],
   "source": [
    "#Weights and Biases\n",
    "def init_params():    \n",
    "    w1 = np.random.rand(10, 784) - 0.5\n",
    "    b1 = np.random.rand(10, 1) - 0.5\n",
    "    w2 = np.random.rand(10, 10) - 0.5\n",
    "    b2 = np.random.rand(10, 1) - 0.5\n",
    "    \n",
    "    return w1, b1, w2, b2\n"
   ]
  },
  {
   "cell_type": "markdown",
   "id": "7895ada6",
   "metadata": {
    "papermill": {
     "duration": 0.00949,
     "end_time": "2024-01-09T18:25:47.126243",
     "exception": false,
     "start_time": "2024-01-09T18:25:47.116753",
     "status": "completed"
    },
    "tags": []
   },
   "source": [
    "**Prediction**"
   ]
  },
  {
   "cell_type": "code",
   "execution_count": 7,
   "id": "0f92c563",
   "metadata": {
    "execution": {
     "iopub.execute_input": "2024-01-09T18:25:47.147763Z",
     "iopub.status.busy": "2024-01-09T18:25:47.147301Z",
     "iopub.status.idle": "2024-01-09T18:25:47.152634Z",
     "shell.execute_reply": "2024-01-09T18:25:47.151309Z"
    },
    "papermill": {
     "duration": 0.019458,
     "end_time": "2024-01-09T18:25:47.155335",
     "exception": false,
     "start_time": "2024-01-09T18:25:47.135877",
     "status": "completed"
    },
    "tags": []
   },
   "outputs": [],
   "source": [
    "#ReLU\n",
    "def relu(z):\n",
    "    return np.maximum(0, z)"
   ]
  },
  {
   "cell_type": "code",
   "execution_count": 8,
   "id": "e2104068",
   "metadata": {
    "execution": {
     "iopub.execute_input": "2024-01-09T18:25:47.177607Z",
     "iopub.status.busy": "2024-01-09T18:25:47.177146Z",
     "iopub.status.idle": "2024-01-09T18:25:47.182807Z",
     "shell.execute_reply": "2024-01-09T18:25:47.181413Z"
    },
    "papermill": {
     "duration": 0.020173,
     "end_time": "2024-01-09T18:25:47.185425",
     "exception": false,
     "start_time": "2024-01-09T18:25:47.165252",
     "status": "completed"
    },
    "tags": []
   },
   "outputs": [],
   "source": [
    "#Softmax\n",
    "def softmax(z):\n",
    "    a = np.exp(z) / sum(np.exp(z))\n",
    "    return a"
   ]
  },
  {
   "cell_type": "code",
   "execution_count": 9,
   "id": "7d55c3e0",
   "metadata": {
    "execution": {
     "iopub.execute_input": "2024-01-09T18:25:47.207160Z",
     "iopub.status.busy": "2024-01-09T18:25:47.206674Z",
     "iopub.status.idle": "2024-01-09T18:25:47.213000Z",
     "shell.execute_reply": "2024-01-09T18:25:47.211757Z"
    },
    "papermill": {
     "duration": 0.020729,
     "end_time": "2024-01-09T18:25:47.215920",
     "exception": false,
     "start_time": "2024-01-09T18:25:47.195191",
     "status": "completed"
    },
    "tags": []
   },
   "outputs": [],
   "source": [
    "#Forward Propogation\n",
    "def frwd_prop(w1, b1, w2, b2, x):\n",
    "    z1 = w1.dot(x) + b1\n",
    "    a1 = relu(z1)\n",
    "    \n",
    "    z2 = w2.dot(a1) + b2\n",
    "    a2 = softmax(z2)\n",
    "    \n",
    "    return z1, a1, z2, a2"
   ]
  },
  {
   "cell_type": "markdown",
   "id": "3df4a06c",
   "metadata": {
    "papermill": {
     "duration": 0.009086,
     "end_time": "2024-01-09T18:25:47.234963",
     "exception": false,
     "start_time": "2024-01-09T18:25:47.225877",
     "status": "completed"
    },
    "tags": []
   },
   "source": [
    "**Loss**"
   ]
  },
  {
   "cell_type": "code",
   "execution_count": 10,
   "id": "52f5e706",
   "metadata": {
    "execution": {
     "iopub.execute_input": "2024-01-09T18:25:47.255994Z",
     "iopub.status.busy": "2024-01-09T18:25:47.255538Z",
     "iopub.status.idle": "2024-01-09T18:25:47.262056Z",
     "shell.execute_reply": "2024-01-09T18:25:47.260624Z"
    },
    "papermill": {
     "duration": 0.020317,
     "end_time": "2024-01-09T18:25:47.264674",
     "exception": false,
     "start_time": "2024-01-09T18:25:47.244357",
     "status": "completed"
    },
    "tags": []
   },
   "outputs": [],
   "source": [
    "#1-Hot Encoder\n",
    "def one_hot(y):\n",
    "    one_hot_y = np.zeros((y.size, y.max() + 1))\n",
    "    one_hot_y[np.arange(y.size), y] = 1\n",
    "    return one_hot_y.T\n"
   ]
  },
  {
   "cell_type": "code",
   "execution_count": 11,
   "id": "fa96e856",
   "metadata": {
    "execution": {
     "iopub.execute_input": "2024-01-09T18:25:47.286249Z",
     "iopub.status.busy": "2024-01-09T18:25:47.285773Z",
     "iopub.status.idle": "2024-01-09T18:25:47.291129Z",
     "shell.execute_reply": "2024-01-09T18:25:47.289826Z"
    },
    "papermill": {
     "duration": 0.018957,
     "end_time": "2024-01-09T18:25:47.293531",
     "exception": false,
     "start_time": "2024-01-09T18:25:47.274574",
     "status": "completed"
    },
    "tags": []
   },
   "outputs": [],
   "source": [
    "#Derivative of ReLU\n",
    "def d_relu(z):\n",
    "    return z > 0"
   ]
  },
  {
   "cell_type": "code",
   "execution_count": 12,
   "id": "7ac45754",
   "metadata": {
    "execution": {
     "iopub.execute_input": "2024-01-09T18:25:47.314646Z",
     "iopub.status.busy": "2024-01-09T18:25:47.314011Z",
     "iopub.status.idle": "2024-01-09T18:25:47.322255Z",
     "shell.execute_reply": "2024-01-09T18:25:47.320928Z"
    },
    "papermill": {
     "duration": 0.021871,
     "end_time": "2024-01-09T18:25:47.324693",
     "exception": false,
     "start_time": "2024-01-09T18:25:47.302822",
     "status": "completed"
    },
    "tags": []
   },
   "outputs": [],
   "source": [
    "#Back Propogation\n",
    "def back_prop(z1, a1, z2, a2, w1, w2, x, y):\n",
    "    m = y.size\n",
    "    one_hot_y = one_hot(y)\n",
    "    \n",
    "    dz2 = a2 - one_hot_y\n",
    "    dw2 = (1/m) * dz2.dot(a1.T)\n",
    "    db2 = (1/m) * np.sum(dz2)\n",
    "    \n",
    "    dz1 = w2.T.dot(dz2) * d_relu(z1)\n",
    "    dw1 = (1/m) * dz1.dot(x.T)\n",
    "    db1 = (1/m) * np.sum(dz1)\n",
    "    \n",
    "    return dw1, db1, dw2, db2"
   ]
  },
  {
   "cell_type": "markdown",
   "id": "f9a879ac",
   "metadata": {
    "papermill": {
     "duration": 0.01171,
     "end_time": "2024-01-09T18:25:47.347116",
     "exception": false,
     "start_time": "2024-01-09T18:25:47.335406",
     "status": "completed"
    },
    "tags": []
   },
   "source": [
    "**Updating Neural Net**"
   ]
  },
  {
   "cell_type": "code",
   "execution_count": 13,
   "id": "a75e4398",
   "metadata": {
    "execution": {
     "iopub.execute_input": "2024-01-09T18:25:47.371716Z",
     "iopub.status.busy": "2024-01-09T18:25:47.370654Z",
     "iopub.status.idle": "2024-01-09T18:25:47.378300Z",
     "shell.execute_reply": "2024-01-09T18:25:47.376897Z"
    },
    "papermill": {
     "duration": 0.024291,
     "end_time": "2024-01-09T18:25:47.381226",
     "exception": false,
     "start_time": "2024-01-09T18:25:47.356935",
     "status": "completed"
    },
    "tags": []
   },
   "outputs": [],
   "source": [
    "#Update Parameters\n",
    "def update_params(alpha, w1, w2, b1, b2, dw1, dw2, db1, db2):\n",
    "    w1 = w1 - alpha*dw1\n",
    "    b1 = b1 - alpha*db1\n",
    "    w2 = w2 - alpha*dw2\n",
    "    b2 = b2 - alpha*db2\n",
    "    \n",
    "    return w1, b1, w2, b2"
   ]
  },
  {
   "cell_type": "markdown",
   "id": "23b50498",
   "metadata": {
    "papermill": {
     "duration": 0.013103,
     "end_time": "2024-01-09T18:25:47.407867",
     "exception": false,
     "start_time": "2024-01-09T18:25:47.394764",
     "status": "completed"
    },
    "tags": []
   },
   "source": [
    "# Gradient Descent Algorithm"
   ]
  },
  {
   "cell_type": "code",
   "execution_count": 14,
   "id": "5d0ef61a",
   "metadata": {
    "execution": {
     "iopub.execute_input": "2024-01-09T18:25:47.432848Z",
     "iopub.status.busy": "2024-01-09T18:25:47.432393Z",
     "iopub.status.idle": "2024-01-09T18:25:47.437885Z",
     "shell.execute_reply": "2024-01-09T18:25:47.436594Z"
    },
    "papermill": {
     "duration": 0.019147,
     "end_time": "2024-01-09T18:25:47.440309",
     "exception": false,
     "start_time": "2024-01-09T18:25:47.421162",
     "status": "completed"
    },
    "tags": []
   },
   "outputs": [],
   "source": [
    "#Prediction\n",
    "def get_pred(a2):\n",
    "    return np.argmax(a2, 0)"
   ]
  },
  {
   "cell_type": "code",
   "execution_count": 15,
   "id": "8c4afb7f",
   "metadata": {
    "execution": {
     "iopub.execute_input": "2024-01-09T18:25:47.461206Z",
     "iopub.status.busy": "2024-01-09T18:25:47.460694Z",
     "iopub.status.idle": "2024-01-09T18:25:47.466690Z",
     "shell.execute_reply": "2024-01-09T18:25:47.465183Z"
    },
    "papermill": {
     "duration": 0.019582,
     "end_time": "2024-01-09T18:25:47.469328",
     "exception": false,
     "start_time": "2024-01-09T18:25:47.449746",
     "status": "completed"
    },
    "tags": []
   },
   "outputs": [],
   "source": [
    "#Accuracy\n",
    "def get_accu(pred, y):\n",
    "    return np.sum(pred == y) / y.size"
   ]
  },
  {
   "cell_type": "code",
   "execution_count": 16,
   "id": "ccf88288",
   "metadata": {
    "execution": {
     "iopub.execute_input": "2024-01-09T18:25:47.492022Z",
     "iopub.status.busy": "2024-01-09T18:25:47.491585Z",
     "iopub.status.idle": "2024-01-09T18:25:47.499925Z",
     "shell.execute_reply": "2024-01-09T18:25:47.498863Z"
    },
    "papermill": {
     "duration": 0.023017,
     "end_time": "2024-01-09T18:25:47.502441",
     "exception": false,
     "start_time": "2024-01-09T18:25:47.479424",
     "status": "completed"
    },
    "tags": []
   },
   "outputs": [],
   "source": [
    "#Gradient Descent\n",
    "def grad_desc(x, y, iterations, alpha):\n",
    "    w1, b1, w2, b2 = init_params()\n",
    "    for i in range(iterations):\n",
    "        z1, a1, z2, a2 = frwd_prop(w1, b1, w2, b2, x)\n",
    "        dw1, db1, dw2, db2 = back_prop(z1, a1, z2, a2, w1, w2, x, y)\n",
    "        w1, b1, w2, b2 = update_params(alpha, w1, w2, b1, b2, dw1, dw2, db1, db2)\n",
    "        \n",
    "        if i % 50 == 0:\n",
    "            print(\"Iterations: \", i)\n",
    "            print(\"Accuracy: \", get_accu(get_pred(a2), y))\n",
    "            \n",
    "    return w1, b1, w2, b2\n",
    "        "
   ]
  },
  {
   "cell_type": "markdown",
   "id": "7fc1cbf6",
   "metadata": {
    "papermill": {
     "duration": 0.01034,
     "end_time": "2024-01-09T18:25:47.523356",
     "exception": false,
     "start_time": "2024-01-09T18:25:47.513016",
     "status": "completed"
    },
    "tags": []
   },
   "source": [
    "# Training & Validation"
   ]
  },
  {
   "cell_type": "code",
   "execution_count": 17,
   "id": "efde533e",
   "metadata": {
    "execution": {
     "iopub.execute_input": "2024-01-09T18:25:47.545761Z",
     "iopub.status.busy": "2024-01-09T18:25:47.545353Z",
     "iopub.status.idle": "2024-01-09T18:27:11.478253Z",
     "shell.execute_reply": "2024-01-09T18:27:11.476450Z"
    },
    "papermill": {
     "duration": 83.948849,
     "end_time": "2024-01-09T18:27:11.483019",
     "exception": false,
     "start_time": "2024-01-09T18:25:47.534170",
     "status": "completed"
    },
    "tags": []
   },
   "outputs": [
    {
     "name": "stdout",
     "output_type": "stream",
     "text": [
      "Iterations:  0\n",
      "Accuracy:  0.09580487804878049\n",
      "Iterations:  50\n",
      "Accuracy:  0.4091951219512195\n",
      "Iterations:  100\n",
      "Accuracy:  0.624\n",
      "Iterations:  150\n",
      "Accuracy:  0.7126585365853658\n",
      "Iterations:  200\n",
      "Accuracy:  0.7585365853658537\n",
      "Iterations:  250\n",
      "Accuracy:  0.7853658536585366\n",
      "Iterations:  300\n",
      "Accuracy:  0.8033902439024391\n",
      "Iterations:  350\n",
      "Accuracy:  0.8169512195121951\n",
      "Iterations:  400\n",
      "Accuracy:  0.827780487804878\n",
      "Iterations:  450\n",
      "Accuracy:  0.8361463414634146\n"
     ]
    }
   ],
   "source": [
    "#Training\n",
    "w1, b1, w2, b2 = grad_desc(x_train, y_train, 500, 0.1)"
   ]
  },
  {
   "cell_type": "markdown",
   "id": "372b1f94",
   "metadata": {
    "papermill": {
     "duration": 0.021565,
     "end_time": "2024-01-09T18:27:11.527311",
     "exception": false,
     "start_time": "2024-01-09T18:27:11.505746",
     "status": "completed"
    },
    "tags": []
   },
   "source": [
    "*~ 85% Accuracy*"
   ]
  },
  {
   "cell_type": "code",
   "execution_count": 18,
   "id": "5ab603a3",
   "metadata": {
    "execution": {
     "iopub.execute_input": "2024-01-09T18:27:11.575138Z",
     "iopub.status.busy": "2024-01-09T18:27:11.574367Z",
     "iopub.status.idle": "2024-01-09T18:27:11.583566Z",
     "shell.execute_reply": "2024-01-09T18:27:11.582358Z"
    },
    "papermill": {
     "duration": 0.037455,
     "end_time": "2024-01-09T18:27:11.587105",
     "exception": false,
     "start_time": "2024-01-09T18:27:11.549650",
     "status": "completed"
    },
    "tags": []
   },
   "outputs": [],
   "source": [
    "#Testing Function\n",
    "def make_pred(x, w1, b1, w2, b2):\n",
    "    _, _, _, a2 = frwd_prop(w1, b1, w2, b2, x)\n",
    "    pred = get_pred(a2)\n",
    "    return pred"
   ]
  },
  {
   "cell_type": "code",
   "execution_count": 19,
   "id": "e6bde0ab",
   "metadata": {
    "execution": {
     "iopub.execute_input": "2024-01-09T18:27:11.615033Z",
     "iopub.status.busy": "2024-01-09T18:27:11.614618Z",
     "iopub.status.idle": "2024-01-09T18:27:11.636160Z",
     "shell.execute_reply": "2024-01-09T18:27:11.634941Z"
    },
    "papermill": {
     "duration": 0.037865,
     "end_time": "2024-01-09T18:27:11.640132",
     "exception": false,
     "start_time": "2024-01-09T18:27:11.602267",
     "status": "completed"
    },
    "tags": []
   },
   "outputs": [
    {
     "data": {
      "text/plain": [
       "0.846"
      ]
     },
     "execution_count": 19,
     "metadata": {},
     "output_type": "execute_result"
    }
   ],
   "source": [
    "#Validation\n",
    "pred = make_pred(x_val, w1, b1, w2, b2)\n",
    "accu = get_accu(pred, y_val)\n",
    "\n",
    "accu"
   ]
  },
  {
   "cell_type": "markdown",
   "id": "95ba3cff",
   "metadata": {
    "papermill": {
     "duration": 0.022573,
     "end_time": "2024-01-09T18:27:11.685645",
     "exception": false,
     "start_time": "2024-01-09T18:27:11.663072",
     "status": "completed"
    },
    "tags": []
   },
   "source": [
    "*~ 85% Accuracy, Model is Generalised*"
   ]
  },
  {
   "cell_type": "markdown",
   "id": "947a1178",
   "metadata": {
    "papermill": {
     "duration": 0.022295,
     "end_time": "2024-01-09T18:27:11.730884",
     "exception": false,
     "start_time": "2024-01-09T18:27:11.708589",
     "status": "completed"
    },
    "tags": []
   },
   "source": [
    "# Testing"
   ]
  },
  {
   "cell_type": "code",
   "execution_count": 20,
   "id": "4cd27758",
   "metadata": {
    "execution": {
     "iopub.execute_input": "2024-01-09T18:27:11.762666Z",
     "iopub.status.busy": "2024-01-09T18:27:11.762223Z",
     "iopub.status.idle": "2024-01-09T18:27:14.658258Z",
     "shell.execute_reply": "2024-01-09T18:27:14.656429Z"
    },
    "papermill": {
     "duration": 2.913534,
     "end_time": "2024-01-09T18:27:14.663059",
     "exception": false,
     "start_time": "2024-01-09T18:27:11.749525",
     "status": "completed"
    },
    "tags": []
   },
   "outputs": [
    {
     "data": {
      "text/plain": [
       "0.846"
      ]
     },
     "execution_count": 20,
     "metadata": {},
     "output_type": "execute_result"
    }
   ],
   "source": [
    "test_set = pd.read_csv(\"/kaggle/input/digit-recognizer/test.csv\")\n",
    "pred = make_pred(x_val, w1, b1, w2, b2)\n",
    "accu = get_accu(pred, y_val)\n",
    "\n",
    "accu"
   ]
  },
  {
   "cell_type": "markdown",
   "id": "7906f193",
   "metadata": {
    "papermill": {
     "duration": 0.022133,
     "end_time": "2024-01-09T18:27:14.709042",
     "exception": false,
     "start_time": "2024-01-09T18:27:14.686909",
     "status": "completed"
    },
    "tags": []
   },
   "source": [
    "*~ 85% Accuracy*"
   ]
  }
 ],
 "metadata": {
  "kaggle": {
   "accelerator": "none",
   "dataSources": [
    {
     "databundleVersionId": 861823,
     "sourceId": 3004,
     "sourceType": "competition"
    }
   ],
   "dockerImageVersionId": 30626,
   "isGpuEnabled": false,
   "isInternetEnabled": false,
   "language": "python",
   "sourceType": "notebook"
  },
  "kernelspec": {
   "display_name": "Python 3",
   "language": "python",
   "name": "python3"
  },
  "language_info": {
   "codemirror_mode": {
    "name": "ipython",
    "version": 3
   },
   "file_extension": ".py",
   "mimetype": "text/x-python",
   "name": "python",
   "nbconvert_exporter": "python",
   "pygments_lexer": "ipython3",
   "version": "3.10.12"
  },
  "papermill": {
   "default_parameters": {},
   "duration": 98.45819,
   "end_time": "2024-01-09T18:27:15.469995",
   "environment_variables": {},
   "exception": null,
   "input_path": "__notebook__.ipynb",
   "output_path": "__notebook__.ipynb",
   "parameters": {},
   "start_time": "2024-01-09T18:25:37.011805",
   "version": "2.4.0"
  }
 },
 "nbformat": 4,
 "nbformat_minor": 5
}
