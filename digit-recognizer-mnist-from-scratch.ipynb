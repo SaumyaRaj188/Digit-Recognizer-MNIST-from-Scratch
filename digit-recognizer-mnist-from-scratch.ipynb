{
 "cells": [
  {
   "cell_type": "code",
   "execution_count": 1,
   "id": "49326a69",
   "metadata": {
    "_cell_guid": "b1076dfc-b9ad-4769-8c92-a6c4dae69d19",
    "_uuid": "8f2839f25d086af736a60e9eeb907d3b93b6e0e5",
    "execution": {
     "iopub.execute_input": "2024-01-09T18:56:16.138265Z",
     "iopub.status.busy": "2024-01-09T18:56:16.137447Z",
     "iopub.status.idle": "2024-01-09T18:56:16.509411Z",
     "shell.execute_reply": "2024-01-09T18:56:16.508003Z"
    },
    "papermill": {
     "duration": 0.384227,
     "end_time": "2024-01-09T18:56:16.512461",
     "exception": false,
     "start_time": "2024-01-09T18:56:16.128234",
     "status": "completed"
    },
    "tags": []
   },
   "outputs": [],
   "source": [
    "#Import Basic Libraries\n",
    "import pandas as pd\n",
    "import numpy as np\n",
    "from matplotlib import pyplot as plt"
   ]
  },
  {
   "cell_type": "markdown",
   "id": "79298322",
   "metadata": {
    "papermill": {
     "duration": 0.007954,
     "end_time": "2024-01-09T18:56:16.527953",
     "exception": false,
     "start_time": "2024-01-09T18:56:16.519999",
     "status": "completed"
    },
    "tags": []
   },
   "source": [
    "# Data Processing"
   ]
  },
  {
   "cell_type": "code",
   "execution_count": 2,
   "id": "23a71d4e",
   "metadata": {
    "execution": {
     "iopub.execute_input": "2024-01-09T18:56:16.544386Z",
     "iopub.status.busy": "2024-01-09T18:56:16.543684Z",
     "iopub.status.idle": "2024-01-09T18:56:19.130345Z",
     "shell.execute_reply": "2024-01-09T18:56:19.127548Z"
    },
    "papermill": {
     "duration": 2.599482,
     "end_time": "2024-01-09T18:56:19.134566",
     "exception": false,
     "start_time": "2024-01-09T18:56:16.535084",
     "status": "completed"
    },
    "tags": []
   },
   "outputs": [],
   "source": [
    "#Read CSV\n",
    "data = pd.read_csv(\"/kaggle/input/digit-recognizer/train.csv\")\n"
   ]
  },
  {
   "cell_type": "code",
   "execution_count": 3,
   "id": "8f333020",
   "metadata": {
    "execution": {
     "iopub.execute_input": "2024-01-09T18:56:19.148929Z",
     "iopub.status.busy": "2024-01-09T18:56:19.148520Z",
     "iopub.status.idle": "2024-01-09T18:56:19.685706Z",
     "shell.execute_reply": "2024-01-09T18:56:19.684085Z"
    },
    "papermill": {
     "duration": 0.547761,
     "end_time": "2024-01-09T18:56:19.688724",
     "exception": false,
     "start_time": "2024-01-09T18:56:19.140963",
     "status": "completed"
    },
    "tags": []
   },
   "outputs": [],
   "source": [
    "#Pandas to Numpy Array\n",
    "data = np.array(data)\n",
    "m,n = data.shape\n",
    "np.random.shuffle(data)"
   ]
  },
  {
   "cell_type": "code",
   "execution_count": 4,
   "id": "bd570b3c",
   "metadata": {
    "execution": {
     "iopub.execute_input": "2024-01-09T18:56:19.703407Z",
     "iopub.status.busy": "2024-01-09T18:56:19.702916Z",
     "iopub.status.idle": "2024-01-09T18:56:19.711954Z",
     "shell.execute_reply": "2024-01-09T18:56:19.709337Z"
    },
    "papermill": {
     "duration": 0.019885,
     "end_time": "2024-01-09T18:56:19.714984",
     "exception": false,
     "start_time": "2024-01-09T18:56:19.695099",
     "status": "completed"
    },
    "tags": []
   },
   "outputs": [],
   "source": [
    "#Validation Set\n",
    "data_val = data[0:1000].T\n",
    "x_val = data_val[1:n]\n",
    "y_val = data_val[0]\n",
    "\n",
    "x_val = x_val / 255"
   ]
  },
  {
   "cell_type": "code",
   "execution_count": 5,
   "id": "8fdeeddc",
   "metadata": {
    "execution": {
     "iopub.execute_input": "2024-01-09T18:56:19.728841Z",
     "iopub.status.busy": "2024-01-09T18:56:19.728423Z",
     "iopub.status.idle": "2024-01-09T18:56:19.810637Z",
     "shell.execute_reply": "2024-01-09T18:56:19.809341Z"
    },
    "papermill": {
     "duration": 0.09261,
     "end_time": "2024-01-09T18:56:19.813857",
     "exception": false,
     "start_time": "2024-01-09T18:56:19.721247",
     "status": "completed"
    },
    "tags": []
   },
   "outputs": [],
   "source": [
    "#Training Set\n",
    "data_train = data[1000:m].T\n",
    "x_train = data_train[1:n]\n",
    "y_train = data_train[0]\n",
    "\n",
    "x_train = x_train / 255"
   ]
  },
  {
   "cell_type": "markdown",
   "id": "483783b9",
   "metadata": {
    "papermill": {
     "duration": 0.005594,
     "end_time": "2024-01-09T18:56:19.825924",
     "exception": false,
     "start_time": "2024-01-09T18:56:19.820330",
     "status": "completed"
    },
    "tags": []
   },
   "source": [
    "# Creating Neural Net"
   ]
  },
  {
   "cell_type": "markdown",
   "id": "d1bd4134",
   "metadata": {
    "papermill": {
     "duration": 0.005701,
     "end_time": "2024-01-09T18:56:19.837473",
     "exception": false,
     "start_time": "2024-01-09T18:56:19.831772",
     "status": "completed"
    },
    "tags": []
   },
   "source": [
    "**Initializing Neural Net**"
   ]
  },
  {
   "cell_type": "code",
   "execution_count": 6,
   "id": "5ea1ec99",
   "metadata": {
    "execution": {
     "iopub.execute_input": "2024-01-09T18:56:19.851467Z",
     "iopub.status.busy": "2024-01-09T18:56:19.851036Z",
     "iopub.status.idle": "2024-01-09T18:56:19.859165Z",
     "shell.execute_reply": "2024-01-09T18:56:19.857221Z"
    },
    "papermill": {
     "duration": 0.018997,
     "end_time": "2024-01-09T18:56:19.862334",
     "exception": false,
     "start_time": "2024-01-09T18:56:19.843337",
     "status": "completed"
    },
    "tags": []
   },
   "outputs": [],
   "source": [
    "#Weights and Biases\n",
    "def init_params():    \n",
    "    w1 = np.random.rand(10, 784) - 0.5\n",
    "    b1 = np.random.rand(10, 1) - 0.5\n",
    "    w2 = np.random.rand(10, 10) - 0.5\n",
    "    b2 = np.random.rand(10, 1) - 0.5\n",
    "    \n",
    "    return w1, b1, w2, b2\n"
   ]
  },
  {
   "cell_type": "markdown",
   "id": "43a055dc",
   "metadata": {
    "papermill": {
     "duration": 0.005662,
     "end_time": "2024-01-09T18:56:19.874512",
     "exception": false,
     "start_time": "2024-01-09T18:56:19.868850",
     "status": "completed"
    },
    "tags": []
   },
   "source": [
    "**Prediction**"
   ]
  },
  {
   "cell_type": "code",
   "execution_count": 7,
   "id": "37ffd297",
   "metadata": {
    "execution": {
     "iopub.execute_input": "2024-01-09T18:56:19.888385Z",
     "iopub.status.busy": "2024-01-09T18:56:19.887939Z",
     "iopub.status.idle": "2024-01-09T18:56:19.893026Z",
     "shell.execute_reply": "2024-01-09T18:56:19.891688Z"
    },
    "papermill": {
     "duration": 0.01542,
     "end_time": "2024-01-09T18:56:19.895744",
     "exception": false,
     "start_time": "2024-01-09T18:56:19.880324",
     "status": "completed"
    },
    "tags": []
   },
   "outputs": [],
   "source": [
    "#ReLU\n",
    "def relu(z):\n",
    "    return np.maximum(0, z)"
   ]
  },
  {
   "cell_type": "code",
   "execution_count": 8,
   "id": "65a6bac9",
   "metadata": {
    "execution": {
     "iopub.execute_input": "2024-01-09T18:56:19.910609Z",
     "iopub.status.busy": "2024-01-09T18:56:19.909738Z",
     "iopub.status.idle": "2024-01-09T18:56:19.915179Z",
     "shell.execute_reply": "2024-01-09T18:56:19.913813Z"
    },
    "papermill": {
     "duration": 0.016008,
     "end_time": "2024-01-09T18:56:19.918154",
     "exception": false,
     "start_time": "2024-01-09T18:56:19.902146",
     "status": "completed"
    },
    "tags": []
   },
   "outputs": [],
   "source": [
    "#Softmax\n",
    "def softmax(z):\n",
    "    a = np.exp(z) / sum(np.exp(z))\n",
    "    return a"
   ]
  },
  {
   "cell_type": "code",
   "execution_count": 9,
   "id": "f4d67a45",
   "metadata": {
    "execution": {
     "iopub.execute_input": "2024-01-09T18:56:19.933595Z",
     "iopub.status.busy": "2024-01-09T18:56:19.932900Z",
     "iopub.status.idle": "2024-01-09T18:56:19.937545Z",
     "shell.execute_reply": "2024-01-09T18:56:19.936803Z"
    },
    "papermill": {
     "duration": 0.015294,
     "end_time": "2024-01-09T18:56:19.940261",
     "exception": false,
     "start_time": "2024-01-09T18:56:19.924967",
     "status": "completed"
    },
    "tags": []
   },
   "outputs": [],
   "source": [
    "#Forward Propogation\n",
    "def frwd_prop(w1, b1, w2, b2, x):\n",
    "    z1 = w1.dot(x) + b1\n",
    "    a1 = relu(z1)\n",
    "    \n",
    "    z2 = w2.dot(a1) + b2\n",
    "    a2 = softmax(z2)\n",
    "    \n",
    "    return z1, a1, z2, a2"
   ]
  },
  {
   "cell_type": "markdown",
   "id": "677a0454",
   "metadata": {
    "papermill": {
     "duration": 0.005803,
     "end_time": "2024-01-09T18:56:19.952903",
     "exception": false,
     "start_time": "2024-01-09T18:56:19.947100",
     "status": "completed"
    },
    "tags": []
   },
   "source": [
    "**Loss**"
   ]
  },
  {
   "cell_type": "code",
   "execution_count": 10,
   "id": "2955d1ca",
   "metadata": {
    "execution": {
     "iopub.execute_input": "2024-01-09T18:56:19.967018Z",
     "iopub.status.busy": "2024-01-09T18:56:19.966563Z",
     "iopub.status.idle": "2024-01-09T18:56:19.972595Z",
     "shell.execute_reply": "2024-01-09T18:56:19.971178Z"
    },
    "papermill": {
     "duration": 0.016573,
     "end_time": "2024-01-09T18:56:19.975534",
     "exception": false,
     "start_time": "2024-01-09T18:56:19.958961",
     "status": "completed"
    },
    "tags": []
   },
   "outputs": [],
   "source": [
    "#1-Hot Encoder\n",
    "def one_hot(y):\n",
    "    one_hot_y = np.zeros((y.size, y.max() + 1))\n",
    "    one_hot_y[np.arange(y.size), y] = 1\n",
    "    return one_hot_y.T\n"
   ]
  },
  {
   "cell_type": "code",
   "execution_count": 11,
   "id": "2649f0de",
   "metadata": {
    "execution": {
     "iopub.execute_input": "2024-01-09T18:56:19.990110Z",
     "iopub.status.busy": "2024-01-09T18:56:19.989653Z",
     "iopub.status.idle": "2024-01-09T18:56:19.996979Z",
     "shell.execute_reply": "2024-01-09T18:56:19.995375Z"
    },
    "papermill": {
     "duration": 0.017879,
     "end_time": "2024-01-09T18:56:19.999945",
     "exception": false,
     "start_time": "2024-01-09T18:56:19.982066",
     "status": "completed"
    },
    "tags": []
   },
   "outputs": [],
   "source": [
    "#Derivative of ReLU\n",
    "def d_relu(z):\n",
    "    return z > 0"
   ]
  },
  {
   "cell_type": "code",
   "execution_count": 12,
   "id": "e68e2ac7",
   "metadata": {
    "execution": {
     "iopub.execute_input": "2024-01-09T18:56:20.016652Z",
     "iopub.status.busy": "2024-01-09T18:56:20.015380Z",
     "iopub.status.idle": "2024-01-09T18:56:20.023803Z",
     "shell.execute_reply": "2024-01-09T18:56:20.022330Z"
    },
    "papermill": {
     "duration": 0.019096,
     "end_time": "2024-01-09T18:56:20.026415",
     "exception": false,
     "start_time": "2024-01-09T18:56:20.007319",
     "status": "completed"
    },
    "tags": []
   },
   "outputs": [],
   "source": [
    "#Back Propogation\n",
    "def back_prop(z1, a1, z2, a2, w1, w2, x, y):\n",
    "    m = y.size\n",
    "    one_hot_y = one_hot(y)\n",
    "    \n",
    "    dz2 = a2 - one_hot_y\n",
    "    dw2 = (1/m) * dz2.dot(a1.T)\n",
    "    db2 = (1/m) * np.sum(dz2)\n",
    "    \n",
    "    dz1 = w2.T.dot(dz2) * d_relu(z1)\n",
    "    dw1 = (1/m) * dz1.dot(x.T)\n",
    "    db1 = (1/m) * np.sum(dz1)\n",
    "    \n",
    "    return dw1, db1, dw2, db2"
   ]
  },
  {
   "cell_type": "markdown",
   "id": "c2fda9f4",
   "metadata": {
    "papermill": {
     "duration": 0.006208,
     "end_time": "2024-01-09T18:56:20.039782",
     "exception": false,
     "start_time": "2024-01-09T18:56:20.033574",
     "status": "completed"
    },
    "tags": []
   },
   "source": [
    "**Updating Neural Net**"
   ]
  },
  {
   "cell_type": "code",
   "execution_count": 13,
   "id": "938b72e0",
   "metadata": {
    "execution": {
     "iopub.execute_input": "2024-01-09T18:56:20.055232Z",
     "iopub.status.busy": "2024-01-09T18:56:20.054493Z",
     "iopub.status.idle": "2024-01-09T18:56:20.062403Z",
     "shell.execute_reply": "2024-01-09T18:56:20.060113Z"
    },
    "papermill": {
     "duration": 0.018922,
     "end_time": "2024-01-09T18:56:20.065677",
     "exception": false,
     "start_time": "2024-01-09T18:56:20.046755",
     "status": "completed"
    },
    "tags": []
   },
   "outputs": [],
   "source": [
    "#Update Parameters\n",
    "def update_params(alpha, w1, w2, b1, b2, dw1, dw2, db1, db2):\n",
    "    w1 = w1 - alpha*dw1\n",
    "    b1 = b1 - alpha*db1\n",
    "    w2 = w2 - alpha*dw2\n",
    "    b2 = b2 - alpha*db2\n",
    "    \n",
    "    return w1, b1, w2, b2"
   ]
  },
  {
   "cell_type": "markdown",
   "id": "09b76217",
   "metadata": {
    "papermill": {
     "duration": 0.005629,
     "end_time": "2024-01-09T18:56:20.078056",
     "exception": false,
     "start_time": "2024-01-09T18:56:20.072427",
     "status": "completed"
    },
    "tags": []
   },
   "source": [
    "# Gradient Descent Algorithm"
   ]
  },
  {
   "cell_type": "code",
   "execution_count": 14,
   "id": "8ac149e6",
   "metadata": {
    "execution": {
     "iopub.execute_input": "2024-01-09T18:56:20.091865Z",
     "iopub.status.busy": "2024-01-09T18:56:20.091337Z",
     "iopub.status.idle": "2024-01-09T18:56:20.099366Z",
     "shell.execute_reply": "2024-01-09T18:56:20.097705Z"
    },
    "papermill": {
     "duration": 0.017919,
     "end_time": "2024-01-09T18:56:20.101741",
     "exception": false,
     "start_time": "2024-01-09T18:56:20.083822",
     "status": "completed"
    },
    "tags": []
   },
   "outputs": [],
   "source": [
    "#Prediction\n",
    "def get_pred(a2):\n",
    "    return np.argmax(a2, 0)"
   ]
  },
  {
   "cell_type": "code",
   "execution_count": 15,
   "id": "c40f34fe",
   "metadata": {
    "execution": {
     "iopub.execute_input": "2024-01-09T18:56:20.117202Z",
     "iopub.status.busy": "2024-01-09T18:56:20.116665Z",
     "iopub.status.idle": "2024-01-09T18:56:20.123289Z",
     "shell.execute_reply": "2024-01-09T18:56:20.121564Z"
    },
    "papermill": {
     "duration": 0.018015,
     "end_time": "2024-01-09T18:56:20.126429",
     "exception": false,
     "start_time": "2024-01-09T18:56:20.108414",
     "status": "completed"
    },
    "tags": []
   },
   "outputs": [],
   "source": [
    "#Accuracy\n",
    "def get_accu(pred, y):\n",
    "    return np.sum(pred == y) / y.size"
   ]
  },
  {
   "cell_type": "code",
   "execution_count": 16,
   "id": "00169d38",
   "metadata": {
    "execution": {
     "iopub.execute_input": "2024-01-09T18:56:20.143093Z",
     "iopub.status.busy": "2024-01-09T18:56:20.142616Z",
     "iopub.status.idle": "2024-01-09T18:56:20.150062Z",
     "shell.execute_reply": "2024-01-09T18:56:20.148948Z"
    },
    "papermill": {
     "duration": 0.018119,
     "end_time": "2024-01-09T18:56:20.152786",
     "exception": false,
     "start_time": "2024-01-09T18:56:20.134667",
     "status": "completed"
    },
    "tags": []
   },
   "outputs": [],
   "source": [
    "#Gradient Descent\n",
    "def grad_desc(x, y, iterations, alpha):\n",
    "    w1, b1, w2, b2 = init_params()\n",
    "    for i in range(iterations):\n",
    "        z1, a1, z2, a2 = frwd_prop(w1, b1, w2, b2, x)\n",
    "        dw1, db1, dw2, db2 = back_prop(z1, a1, z2, a2, w1, w2, x, y)\n",
    "        w1, b1, w2, b2 = update_params(alpha, w1, w2, b1, b2, dw1, dw2, db1, db2)\n",
    "        \n",
    "        if i % 50 == 0:\n",
    "            print(\"Iterations: \", i)\n",
    "            print(\"Accuracy: \", get_accu(get_pred(a2), y))\n",
    "            \n",
    "    return w1, b1, w2, b2\n",
    "        "
   ]
  },
  {
   "cell_type": "markdown",
   "id": "c81e2ab2",
   "metadata": {
    "papermill": {
     "duration": 0.005396,
     "end_time": "2024-01-09T18:56:20.164574",
     "exception": false,
     "start_time": "2024-01-09T18:56:20.159178",
     "status": "completed"
    },
    "tags": []
   },
   "source": [
    "# Training & Validation"
   ]
  },
  {
   "cell_type": "code",
   "execution_count": 17,
   "id": "da458be6",
   "metadata": {
    "execution": {
     "iopub.execute_input": "2024-01-09T18:56:20.178481Z",
     "iopub.status.busy": "2024-01-09T18:56:20.177959Z",
     "iopub.status.idle": "2024-01-09T18:56:59.879613Z",
     "shell.execute_reply": "2024-01-09T18:56:59.878754Z"
    },
    "papermill": {
     "duration": 39.711732,
     "end_time": "2024-01-09T18:56:59.882148",
     "exception": false,
     "start_time": "2024-01-09T18:56:20.170416",
     "status": "completed"
    },
    "tags": []
   },
   "outputs": [
    {
     "name": "stdout",
     "output_type": "stream",
     "text": [
      "Iterations:  0\n",
      "Accuracy:  0.09380487804878049\n",
      "Iterations:  50\n",
      "Accuracy:  0.2425609756097561\n",
      "Iterations:  100\n",
      "Accuracy:  0.4097073170731707\n",
      "Iterations:  150\n",
      "Accuracy:  0.5250487804878049\n",
      "Iterations:  200\n",
      "Accuracy:  0.6507317073170732\n",
      "Iterations:  250\n",
      "Accuracy:  0.7185365853658536\n",
      "Iterations:  300\n",
      "Accuracy:  0.7539756097560976\n",
      "Iterations:  350\n",
      "Accuracy:  0.7745365853658537\n",
      "Iterations:  400\n",
      "Accuracy:  0.7911707317073171\n",
      "Iterations:  450\n",
      "Accuracy:  0.803219512195122\n"
     ]
    }
   ],
   "source": [
    "#Training\n",
    "w1, b1, w2, b2 = grad_desc(x_train, y_train, 500, 0.1)"
   ]
  },
  {
   "cell_type": "markdown",
   "id": "c3255f63",
   "metadata": {
    "papermill": {
     "duration": 0.0078,
     "end_time": "2024-01-09T18:56:59.898174",
     "exception": false,
     "start_time": "2024-01-09T18:56:59.890374",
     "status": "completed"
    },
    "tags": []
   },
   "source": [
    "*~ 85% Accuracy*"
   ]
  },
  {
   "cell_type": "code",
   "execution_count": 18,
   "id": "86df213e",
   "metadata": {
    "execution": {
     "iopub.execute_input": "2024-01-09T18:56:59.918288Z",
     "iopub.status.busy": "2024-01-09T18:56:59.917767Z",
     "iopub.status.idle": "2024-01-09T18:56:59.928415Z",
     "shell.execute_reply": "2024-01-09T18:56:59.927432Z"
    },
    "papermill": {
     "duration": 0.02466,
     "end_time": "2024-01-09T18:56:59.931231",
     "exception": false,
     "start_time": "2024-01-09T18:56:59.906571",
     "status": "completed"
    },
    "tags": []
   },
   "outputs": [],
   "source": [
    "#Testing Function\n",
    "def test_pred(x, y, w1, b1, w2, b2):\n",
    "    _, _, _, a2 = frwd_prop(w1, b1, w2, b2, x)\n",
    "    pred = get_pred(a2)\n",
    "    accu = get_accu(pred, y)\n",
    "    return accu"
   ]
  },
  {
   "cell_type": "code",
   "execution_count": 19,
   "id": "23388ff8",
   "metadata": {
    "execution": {
     "iopub.execute_input": "2024-01-09T18:56:59.951707Z",
     "iopub.status.busy": "2024-01-09T18:56:59.951203Z",
     "iopub.status.idle": "2024-01-09T18:56:59.967156Z",
     "shell.execute_reply": "2024-01-09T18:56:59.966251Z"
    },
    "papermill": {
     "duration": 0.028478,
     "end_time": "2024-01-09T18:56:59.969543",
     "exception": false,
     "start_time": "2024-01-09T18:56:59.941065",
     "status": "completed"
    },
    "tags": []
   },
   "outputs": [
    {
     "data": {
      "text/plain": [
       "0.814"
      ]
     },
     "execution_count": 19,
     "metadata": {},
     "output_type": "execute_result"
    }
   ],
   "source": [
    "#Validation\n",
    "accuracy = test_pred(x_val, y_val, w1, b1, w2, b2)\n",
    "\n",
    "accuracy"
   ]
  },
  {
   "cell_type": "markdown",
   "id": "af948874",
   "metadata": {
    "papermill": {
     "duration": 0.007845,
     "end_time": "2024-01-09T18:56:59.985595",
     "exception": false,
     "start_time": "2024-01-09T18:56:59.977750",
     "status": "completed"
    },
    "tags": []
   },
   "source": [
    "*~ 85% Accuracy, Model is Generalised*"
   ]
  }
 ],
 "metadata": {
  "kaggle": {
   "accelerator": "none",
   "dataSources": [
    {
     "databundleVersionId": 861823,
     "sourceId": 3004,
     "sourceType": "competition"
    }
   ],
   "dockerImageVersionId": 30626,
   "isGpuEnabled": false,
   "isInternetEnabled": false,
   "language": "python",
   "sourceType": "notebook"
  },
  "kernelspec": {
   "display_name": "Python 3",
   "language": "python",
   "name": "python3"
  },
  "language_info": {
   "codemirror_mode": {
    "name": "ipython",
    "version": 3
   },
   "file_extension": ".py",
   "mimetype": "text/x-python",
   "name": "python",
   "nbconvert_exporter": "python",
   "pygments_lexer": "ipython3",
   "version": "3.10.12"
  },
  "papermill": {
   "default_parameters": {},
   "duration": 47.462237,
   "end_time": "2024-01-09T18:57:00.630208",
   "environment_variables": {},
   "exception": null,
   "input_path": "__notebook__.ipynb",
   "output_path": "__notebook__.ipynb",
   "parameters": {},
   "start_time": "2024-01-09T18:56:13.167971",
   "version": "2.4.0"
  }
 },
 "nbformat": 4,
 "nbformat_minor": 5
}
