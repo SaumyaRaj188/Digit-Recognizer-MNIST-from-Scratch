{
 "cells": [
  {
   "cell_type": "code",
   "execution_count": 1,
   "id": "c32e8a4d",
   "metadata": {
    "_cell_guid": "b1076dfc-b9ad-4769-8c92-a6c4dae69d19",
    "_uuid": "8f2839f25d086af736a60e9eeb907d3b93b6e0e5",
    "execution": {
     "iopub.execute_input": "2024-01-09T18:59:46.580650Z",
     "iopub.status.busy": "2024-01-09T18:59:46.580251Z",
     "iopub.status.idle": "2024-01-09T18:59:47.022647Z",
     "shell.execute_reply": "2024-01-09T18:59:47.021288Z"
    },
    "papermill": {
     "duration": 0.456846,
     "end_time": "2024-01-09T18:59:47.025724",
     "exception": false,
     "start_time": "2024-01-09T18:59:46.568878",
     "status": "completed"
    },
    "tags": []
   },
   "outputs": [],
   "source": [
    "#Import Basic Libraries\n",
    "import pandas as pd\n",
    "import numpy as np\n",
    "from matplotlib import pyplot as plt"
   ]
  },
  {
   "cell_type": "markdown",
   "id": "29828f55",
   "metadata": {
    "papermill": {
     "duration": 0.008733,
     "end_time": "2024-01-09T18:59:47.043735",
     "exception": false,
     "start_time": "2024-01-09T18:59:47.035002",
     "status": "completed"
    },
    "tags": []
   },
   "source": [
    "# Data Processing"
   ]
  },
  {
   "cell_type": "code",
   "execution_count": 2,
   "id": "39ece97d",
   "metadata": {
    "execution": {
     "iopub.execute_input": "2024-01-09T18:59:47.063868Z",
     "iopub.status.busy": "2024-01-09T18:59:47.063314Z",
     "iopub.status.idle": "2024-01-09T18:59:51.427792Z",
     "shell.execute_reply": "2024-01-09T18:59:51.426765Z"
    },
    "papermill": {
     "duration": 4.377961,
     "end_time": "2024-01-09T18:59:51.430723",
     "exception": false,
     "start_time": "2024-01-09T18:59:47.052762",
     "status": "completed"
    },
    "tags": []
   },
   "outputs": [],
   "source": [
    "#Read CSV\n",
    "data = pd.read_csv(\"/kaggle/input/digit-recognizer/train.csv\")\n"
   ]
  },
  {
   "cell_type": "code",
   "execution_count": 3,
   "id": "0828df9d",
   "metadata": {
    "execution": {
     "iopub.execute_input": "2024-01-09T18:59:51.451787Z",
     "iopub.status.busy": "2024-01-09T18:59:51.451391Z",
     "iopub.status.idle": "2024-01-09T18:59:52.144034Z",
     "shell.execute_reply": "2024-01-09T18:59:52.142844Z"
    },
    "papermill": {
     "duration": 0.706192,
     "end_time": "2024-01-09T18:59:52.147051",
     "exception": false,
     "start_time": "2024-01-09T18:59:51.440859",
     "status": "completed"
    },
    "tags": []
   },
   "outputs": [],
   "source": [
    "#Pandas to Numpy Array\n",
    "data = np.array(data)\n",
    "m,n = data.shape\n",
    "np.random.shuffle(data)"
   ]
  },
  {
   "cell_type": "code",
   "execution_count": 4,
   "id": "f573510c",
   "metadata": {
    "execution": {
     "iopub.execute_input": "2024-01-09T18:59:52.167180Z",
     "iopub.status.busy": "2024-01-09T18:59:52.166780Z",
     "iopub.status.idle": "2024-01-09T18:59:52.174297Z",
     "shell.execute_reply": "2024-01-09T18:59:52.172756Z"
    },
    "papermill": {
     "duration": 0.021124,
     "end_time": "2024-01-09T18:59:52.177213",
     "exception": false,
     "start_time": "2024-01-09T18:59:52.156089",
     "status": "completed"
    },
    "tags": []
   },
   "outputs": [],
   "source": [
    "#Validation Set\n",
    "data_val = data[0:1000].T\n",
    "x_val = data_val[1:n]\n",
    "y_val = data_val[0]\n",
    "\n",
    "x_val = x_val / 255"
   ]
  },
  {
   "cell_type": "code",
   "execution_count": 5,
   "id": "4006cb24",
   "metadata": {
    "execution": {
     "iopub.execute_input": "2024-01-09T18:59:52.196874Z",
     "iopub.status.busy": "2024-01-09T18:59:52.196456Z",
     "iopub.status.idle": "2024-01-09T18:59:52.312822Z",
     "shell.execute_reply": "2024-01-09T18:59:52.311665Z"
    },
    "papermill": {
     "duration": 0.13049,
     "end_time": "2024-01-09T18:59:52.316592",
     "exception": false,
     "start_time": "2024-01-09T18:59:52.186102",
     "status": "completed"
    },
    "tags": []
   },
   "outputs": [],
   "source": [
    "#Training Set\n",
    "data_train = data[1000:m].T\n",
    "x_train = data_train[1:n]\n",
    "y_train = data_train[0]\n",
    "\n",
    "x_train = x_train / 255"
   ]
  },
  {
   "cell_type": "markdown",
   "id": "40794f50",
   "metadata": {
    "papermill": {
     "duration": 0.00886,
     "end_time": "2024-01-09T18:59:52.336708",
     "exception": false,
     "start_time": "2024-01-09T18:59:52.327848",
     "status": "completed"
    },
    "tags": []
   },
   "source": [
    "# Creating Neural Net"
   ]
  },
  {
   "cell_type": "markdown",
   "id": "6fc33b06",
   "metadata": {
    "papermill": {
     "duration": 0.012155,
     "end_time": "2024-01-09T18:59:52.360955",
     "exception": false,
     "start_time": "2024-01-09T18:59:52.348800",
     "status": "completed"
    },
    "tags": []
   },
   "source": [
    "**Initializing Neural Net**"
   ]
  },
  {
   "cell_type": "code",
   "execution_count": 6,
   "id": "6f9bac00",
   "metadata": {
    "execution": {
     "iopub.execute_input": "2024-01-09T18:59:52.390472Z",
     "iopub.status.busy": "2024-01-09T18:59:52.389193Z",
     "iopub.status.idle": "2024-01-09T18:59:52.396736Z",
     "shell.execute_reply": "2024-01-09T18:59:52.395348Z"
    },
    "papermill": {
     "duration": 0.026461,
     "end_time": "2024-01-09T18:59:52.399885",
     "exception": false,
     "start_time": "2024-01-09T18:59:52.373424",
     "status": "completed"
    },
    "tags": []
   },
   "outputs": [],
   "source": [
    "#Weights and Biases\n",
    "def init_params():    \n",
    "    w1 = np.random.rand(10, 784) - 0.5\n",
    "    b1 = np.random.rand(10, 1) - 0.5\n",
    "    w2 = np.random.rand(10, 10) - 0.5\n",
    "    b2 = np.random.rand(10, 1) - 0.5\n",
    "    \n",
    "    return w1, b1, w2, b2\n"
   ]
  },
  {
   "cell_type": "markdown",
   "id": "c57c4614",
   "metadata": {
    "papermill": {
     "duration": 0.012868,
     "end_time": "2024-01-09T18:59:52.423673",
     "exception": false,
     "start_time": "2024-01-09T18:59:52.410805",
     "status": "completed"
    },
    "tags": []
   },
   "source": [
    "**Prediction**"
   ]
  },
  {
   "cell_type": "code",
   "execution_count": 7,
   "id": "43b071ea",
   "metadata": {
    "execution": {
     "iopub.execute_input": "2024-01-09T18:59:52.444876Z",
     "iopub.status.busy": "2024-01-09T18:59:52.444493Z",
     "iopub.status.idle": "2024-01-09T18:59:52.449888Z",
     "shell.execute_reply": "2024-01-09T18:59:52.448626Z"
    },
    "papermill": {
     "duration": 0.018574,
     "end_time": "2024-01-09T18:59:52.452353",
     "exception": false,
     "start_time": "2024-01-09T18:59:52.433779",
     "status": "completed"
    },
    "tags": []
   },
   "outputs": [],
   "source": [
    "#ReLU\n",
    "def relu(z):\n",
    "    return np.maximum(0, z)"
   ]
  },
  {
   "cell_type": "code",
   "execution_count": 8,
   "id": "af0ff146",
   "metadata": {
    "execution": {
     "iopub.execute_input": "2024-01-09T18:59:52.472356Z",
     "iopub.status.busy": "2024-01-09T18:59:52.471941Z",
     "iopub.status.idle": "2024-01-09T18:59:52.479033Z",
     "shell.execute_reply": "2024-01-09T18:59:52.477427Z"
    },
    "papermill": {
     "duration": 0.020736,
     "end_time": "2024-01-09T18:59:52.482062",
     "exception": false,
     "start_time": "2024-01-09T18:59:52.461326",
     "status": "completed"
    },
    "tags": []
   },
   "outputs": [],
   "source": [
    "#Softmax\n",
    "def softmax(z):\n",
    "    a = np.exp(z) / sum(np.exp(z))\n",
    "    return a"
   ]
  },
  {
   "cell_type": "code",
   "execution_count": 9,
   "id": "e7d17648",
   "metadata": {
    "execution": {
     "iopub.execute_input": "2024-01-09T18:59:52.505942Z",
     "iopub.status.busy": "2024-01-09T18:59:52.504742Z",
     "iopub.status.idle": "2024-01-09T18:59:52.511868Z",
     "shell.execute_reply": "2024-01-09T18:59:52.510956Z"
    },
    "papermill": {
     "duration": 0.024176,
     "end_time": "2024-01-09T18:59:52.515442",
     "exception": false,
     "start_time": "2024-01-09T18:59:52.491266",
     "status": "completed"
    },
    "tags": []
   },
   "outputs": [],
   "source": [
    "#Forward Propogation\n",
    "def frwd_prop(w1, b1, w2, b2, x):\n",
    "    z1 = w1.dot(x) + b1\n",
    "    a1 = relu(z1)\n",
    "    \n",
    "    z2 = w2.dot(a1) + b2\n",
    "    a2 = softmax(z2)\n",
    "    \n",
    "    return z1, a1, z2, a2"
   ]
  },
  {
   "cell_type": "markdown",
   "id": "47d0ed60",
   "metadata": {
    "papermill": {
     "duration": 0.009022,
     "end_time": "2024-01-09T18:59:52.537030",
     "exception": false,
     "start_time": "2024-01-09T18:59:52.528008",
     "status": "completed"
    },
    "tags": []
   },
   "source": [
    "**Loss**"
   ]
  },
  {
   "cell_type": "code",
   "execution_count": 10,
   "id": "0a402a4c",
   "metadata": {
    "execution": {
     "iopub.execute_input": "2024-01-09T18:59:52.558040Z",
     "iopub.status.busy": "2024-01-09T18:59:52.557335Z",
     "iopub.status.idle": "2024-01-09T18:59:52.563118Z",
     "shell.execute_reply": "2024-01-09T18:59:52.562228Z"
    },
    "papermill": {
     "duration": 0.019252,
     "end_time": "2024-01-09T18:59:52.565488",
     "exception": false,
     "start_time": "2024-01-09T18:59:52.546236",
     "status": "completed"
    },
    "tags": []
   },
   "outputs": [],
   "source": [
    "#1-Hot Encoder\n",
    "def one_hot(y):\n",
    "    one_hot_y = np.zeros((y.size, y.max() + 1))\n",
    "    one_hot_y[np.arange(y.size), y] = 1\n",
    "    return one_hot_y.T\n"
   ]
  },
  {
   "cell_type": "code",
   "execution_count": 11,
   "id": "f9cc6138",
   "metadata": {
    "execution": {
     "iopub.execute_input": "2024-01-09T18:59:52.593270Z",
     "iopub.status.busy": "2024-01-09T18:59:52.592203Z",
     "iopub.status.idle": "2024-01-09T18:59:52.599404Z",
     "shell.execute_reply": "2024-01-09T18:59:52.598123Z"
    },
    "papermill": {
     "duration": 0.027916,
     "end_time": "2024-01-09T18:59:52.602536",
     "exception": false,
     "start_time": "2024-01-09T18:59:52.574620",
     "status": "completed"
    },
    "tags": []
   },
   "outputs": [],
   "source": [
    "#Derivative of ReLU\n",
    "def d_relu(z):\n",
    "    return z > 0"
   ]
  },
  {
   "cell_type": "code",
   "execution_count": 12,
   "id": "5ae65b53",
   "metadata": {
    "execution": {
     "iopub.execute_input": "2024-01-09T18:59:52.627323Z",
     "iopub.status.busy": "2024-01-09T18:59:52.626043Z",
     "iopub.status.idle": "2024-01-09T18:59:52.638573Z",
     "shell.execute_reply": "2024-01-09T18:59:52.637127Z"
    },
    "papermill": {
     "duration": 0.030295,
     "end_time": "2024-01-09T18:59:52.642005",
     "exception": false,
     "start_time": "2024-01-09T18:59:52.611710",
     "status": "completed"
    },
    "tags": []
   },
   "outputs": [],
   "source": [
    "#Back Propogation\n",
    "def back_prop(z1, a1, z2, a2, w1, w2, x, y):\n",
    "    m = y.size\n",
    "    one_hot_y = one_hot(y)\n",
    "    \n",
    "    dz2 = a2 - one_hot_y\n",
    "    dw2 = (1/m) * dz2.dot(a1.T)\n",
    "    db2 = (1/m) * np.sum(dz2)\n",
    "    \n",
    "    dz1 = w2.T.dot(dz2) * d_relu(z1)\n",
    "    dw1 = (1/m) * dz1.dot(x.T)\n",
    "    db1 = (1/m) * np.sum(dz1)\n",
    "    \n",
    "    return dw1, db1, dw2, db2"
   ]
  },
  {
   "cell_type": "markdown",
   "id": "8607ca91",
   "metadata": {
    "papermill": {
     "duration": 0.012898,
     "end_time": "2024-01-09T18:59:52.668261",
     "exception": false,
     "start_time": "2024-01-09T18:59:52.655363",
     "status": "completed"
    },
    "tags": []
   },
   "source": [
    "**Updating Neural Net**"
   ]
  },
  {
   "cell_type": "code",
   "execution_count": 13,
   "id": "c2b21267",
   "metadata": {
    "execution": {
     "iopub.execute_input": "2024-01-09T18:59:52.694797Z",
     "iopub.status.busy": "2024-01-09T18:59:52.694084Z",
     "iopub.status.idle": "2024-01-09T18:59:52.700712Z",
     "shell.execute_reply": "2024-01-09T18:59:52.699660Z"
    },
    "papermill": {
     "duration": 0.023253,
     "end_time": "2024-01-09T18:59:52.703706",
     "exception": false,
     "start_time": "2024-01-09T18:59:52.680453",
     "status": "completed"
    },
    "tags": []
   },
   "outputs": [],
   "source": [
    "#Update Parameters\n",
    "def update_params(alpha, w1, w2, b1, b2, dw1, dw2, db1, db2):\n",
    "    w1 = w1 - alpha*dw1\n",
    "    b1 = b1 - alpha*db1\n",
    "    w2 = w2 - alpha*dw2\n",
    "    b2 = b2 - alpha*db2\n",
    "    \n",
    "    return w1, b1, w2, b2"
   ]
  },
  {
   "cell_type": "markdown",
   "id": "7c0b466e",
   "metadata": {
    "papermill": {
     "duration": 0.024275,
     "end_time": "2024-01-09T18:59:52.741045",
     "exception": false,
     "start_time": "2024-01-09T18:59:52.716770",
     "status": "completed"
    },
    "tags": []
   },
   "source": [
    "# Gradient Descent Algorithm"
   ]
  },
  {
   "cell_type": "code",
   "execution_count": 14,
   "id": "c2265793",
   "metadata": {
    "execution": {
     "iopub.execute_input": "2024-01-09T18:59:52.765476Z",
     "iopub.status.busy": "2024-01-09T18:59:52.764682Z",
     "iopub.status.idle": "2024-01-09T18:59:52.769848Z",
     "shell.execute_reply": "2024-01-09T18:59:52.769049Z"
    },
    "papermill": {
     "duration": 0.01937,
     "end_time": "2024-01-09T18:59:52.772214",
     "exception": false,
     "start_time": "2024-01-09T18:59:52.752844",
     "status": "completed"
    },
    "tags": []
   },
   "outputs": [],
   "source": [
    "#Prediction\n",
    "def get_pred(a2):\n",
    "    return np.argmax(a2, 0)"
   ]
  },
  {
   "cell_type": "code",
   "execution_count": 15,
   "id": "18407f44",
   "metadata": {
    "execution": {
     "iopub.execute_input": "2024-01-09T18:59:52.792184Z",
     "iopub.status.busy": "2024-01-09T18:59:52.791358Z",
     "iopub.status.idle": "2024-01-09T18:59:52.796743Z",
     "shell.execute_reply": "2024-01-09T18:59:52.795825Z"
    },
    "papermill": {
     "duration": 0.018216,
     "end_time": "2024-01-09T18:59:52.799319",
     "exception": false,
     "start_time": "2024-01-09T18:59:52.781103",
     "status": "completed"
    },
    "tags": []
   },
   "outputs": [],
   "source": [
    "#Accuracy\n",
    "def get_accu(pred, y):\n",
    "    return np.sum(pred == y) / y.size"
   ]
  },
  {
   "cell_type": "code",
   "execution_count": 16,
   "id": "6b767d02",
   "metadata": {
    "execution": {
     "iopub.execute_input": "2024-01-09T18:59:52.819438Z",
     "iopub.status.busy": "2024-01-09T18:59:52.818726Z",
     "iopub.status.idle": "2024-01-09T18:59:52.827138Z",
     "shell.execute_reply": "2024-01-09T18:59:52.825943Z"
    },
    "papermill": {
     "duration": 0.02131,
     "end_time": "2024-01-09T18:59:52.829584",
     "exception": false,
     "start_time": "2024-01-09T18:59:52.808274",
     "status": "completed"
    },
    "tags": []
   },
   "outputs": [],
   "source": [
    "#Gradient Descent\n",
    "def grad_desc(x, y, iterations, alpha):\n",
    "    w1, b1, w2, b2 = init_params()\n",
    "    for i in range(iterations):\n",
    "        z1, a1, z2, a2 = frwd_prop(w1, b1, w2, b2, x)\n",
    "        dw1, db1, dw2, db2 = back_prop(z1, a1, z2, a2, w1, w2, x, y)\n",
    "        w1, b1, w2, b2 = update_params(alpha, w1, w2, b1, b2, dw1, dw2, db1, db2)\n",
    "        \n",
    "        if i % 50 == 0:\n",
    "            print(\"Iterations: \", i)\n",
    "            print(\"Accuracy: \", get_accu(get_pred(a2), y))\n",
    "            \n",
    "    return w1, b1, w2, b2\n",
    "        "
   ]
  },
  {
   "cell_type": "markdown",
   "id": "aa4227e4",
   "metadata": {
    "papermill": {
     "duration": 0.008462,
     "end_time": "2024-01-09T18:59:52.846915",
     "exception": false,
     "start_time": "2024-01-09T18:59:52.838453",
     "status": "completed"
    },
    "tags": []
   },
   "source": [
    "# Training & Validation"
   ]
  },
  {
   "cell_type": "code",
   "execution_count": 17,
   "id": "5d944b0e",
   "metadata": {
    "execution": {
     "iopub.execute_input": "2024-01-09T18:59:52.866801Z",
     "iopub.status.busy": "2024-01-09T18:59:52.866089Z",
     "iopub.status.idle": "2024-01-09T19:01:06.985855Z",
     "shell.execute_reply": "2024-01-09T19:01:06.984167Z"
    },
    "papermill": {
     "duration": 74.135274,
     "end_time": "2024-01-09T19:01:06.991097",
     "exception": false,
     "start_time": "2024-01-09T18:59:52.855823",
     "status": "completed"
    },
    "tags": []
   },
   "outputs": [
    {
     "name": "stdout",
     "output_type": "stream",
     "text": [
      "Iterations:  0\n",
      "Accuracy:  0.06609756097560976\n",
      "Iterations:  50\n",
      "Accuracy:  0.4361219512195122\n",
      "Iterations:  100\n",
      "Accuracy:  0.6374634146341464\n",
      "Iterations:  150\n",
      "Accuracy:  0.7198536585365853\n",
      "Iterations:  200\n",
      "Accuracy:  0.7631707317073171\n",
      "Iterations:  250\n",
      "Accuracy:  0.7890243902439025\n",
      "Iterations:  300\n",
      "Accuracy:  0.8061951219512196\n",
      "Iterations:  350\n",
      "Accuracy:  0.8184390243902439\n",
      "Iterations:  400\n",
      "Accuracy:  0.8275121951219512\n",
      "Iterations:  450\n",
      "Accuracy:  0.8347560975609756\n"
     ]
    }
   ],
   "source": [
    "#Training\n",
    "w1, b1, w2, b2 = grad_desc(x_train, y_train, 500, 0.1)"
   ]
  },
  {
   "cell_type": "markdown",
   "id": "68301bc8",
   "metadata": {
    "papermill": {
     "duration": 0.020022,
     "end_time": "2024-01-09T19:01:07.032262",
     "exception": false,
     "start_time": "2024-01-09T19:01:07.012240",
     "status": "completed"
    },
    "tags": []
   },
   "source": [
    "*~ 85% Accuracy*"
   ]
  },
  {
   "cell_type": "code",
   "execution_count": 18,
   "id": "156c0524",
   "metadata": {
    "execution": {
     "iopub.execute_input": "2024-01-09T19:01:07.075604Z",
     "iopub.status.busy": "2024-01-09T19:01:07.074787Z",
     "iopub.status.idle": "2024-01-09T19:01:07.087808Z",
     "shell.execute_reply": "2024-01-09T19:01:07.086159Z"
    },
    "papermill": {
     "duration": 0.040617,
     "end_time": "2024-01-09T19:01:07.093184",
     "exception": false,
     "start_time": "2024-01-09T19:01:07.052567",
     "status": "completed"
    },
    "tags": []
   },
   "outputs": [],
   "source": [
    "#Testing Function\n",
    "def test_pred(x, y, w1, b1, w2, b2):\n",
    "    _, _, _, a2 = frwd_prop(w1, b1, w2, b2, x)\n",
    "    pred = get_pred(a2)\n",
    "    accu = get_accu(pred, y)\n",
    "    return accu"
   ]
  },
  {
   "cell_type": "code",
   "execution_count": 19,
   "id": "6b8958dc",
   "metadata": {
    "execution": {
     "iopub.execute_input": "2024-01-09T19:01:07.119818Z",
     "iopub.status.busy": "2024-01-09T19:01:07.119418Z",
     "iopub.status.idle": "2024-01-09T19:01:07.138754Z",
     "shell.execute_reply": "2024-01-09T19:01:07.137661Z"
    },
    "papermill": {
     "duration": 0.034474,
     "end_time": "2024-01-09T19:01:07.142624",
     "exception": false,
     "start_time": "2024-01-09T19:01:07.108150",
     "status": "completed"
    },
    "tags": []
   },
   "outputs": [
    {
     "data": {
      "text/plain": [
       "0.839"
      ]
     },
     "execution_count": 19,
     "metadata": {},
     "output_type": "execute_result"
    }
   ],
   "source": [
    "#Validation\n",
    "accuracy = test_pred(x_val, y_val, w1, b1, w2, b2)\n",
    "\n",
    "accuracy"
   ]
  },
  {
   "cell_type": "markdown",
   "id": "ae952c11",
   "metadata": {
    "papermill": {
     "duration": 0.020455,
     "end_time": "2024-01-09T19:01:07.183657",
     "exception": false,
     "start_time": "2024-01-09T19:01:07.163202",
     "status": "completed"
    },
    "tags": []
   },
   "source": [
    "*~ 85% Accuracy, Model is Generalised*"
   ]
  }
 ],
 "metadata": {
  "kaggle": {
   "accelerator": "none",
   "dataSources": [
    {
     "databundleVersionId": 861823,
     "sourceId": 3004,
     "sourceType": "competition"
    }
   ],
   "dockerImageVersionId": 30626,
   "isGpuEnabled": false,
   "isInternetEnabled": false,
   "language": "python",
   "sourceType": "notebook"
  },
  "kernelspec": {
   "display_name": "Python 3",
   "language": "python",
   "name": "python3"
  },
  "language_info": {
   "codemirror_mode": {
    "name": "ipython",
    "version": 3
   },
   "file_extension": ".py",
   "mimetype": "text/x-python",
   "name": "python",
   "nbconvert_exporter": "python",
   "pygments_lexer": "ipython3",
   "version": "3.10.12"
  },
  "papermill": {
   "default_parameters": {},
   "duration": 84.703836,
   "end_time": "2024-01-09T19:01:07.734971",
   "environment_variables": {},
   "exception": null,
   "input_path": "__notebook__.ipynb",
   "output_path": "__notebook__.ipynb",
   "parameters": {},
   "start_time": "2024-01-09T18:59:43.031135",
   "version": "2.4.0"
  }
 },
 "nbformat": 4,
 "nbformat_minor": 5
}
